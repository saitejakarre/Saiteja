{
  "nbformat": 4,
  "nbformat_minor": 0,
  "metadata": {
    "colab": {
      "provenance": [],
      "authorship_tag": "ABX9TyNL4so18AT1yHBT4mmrCbzk",
      "include_colab_link": true
    },
    "kernelspec": {
      "name": "python3",
      "display_name": "Python 3"
    },
    "language_info": {
      "name": "python"
    }
  },
  "cells": [
    {
      "cell_type": "markdown",
      "metadata": {
        "id": "view-in-github",
        "colab_type": "text"
      },
      "source": [
        "<a href=\"https://colab.research.google.com/github/saitejakarre/Saiteja/blob/main/Text_Summarization_using_TL.ipynb\" target=\"_parent\"><img src=\"https://colab.research.google.com/assets/colab-badge.svg\" alt=\"Open In Colab\"/></a>"
      ]
    },
    {
      "cell_type": "code",
      "source": [
        "!pip install datasets"
      ],
      "metadata": {
        "id": "Z95Qz-d9VMTa"
      },
      "execution_count": null,
      "outputs": []
    },
    {
      "cell_type": "code",
      "source": [
        "from datasets import load_dataset\n",
        "\n",
        "df = load_dataset(\"knkarthick/dialogsum\")"
      ],
      "metadata": {
        "id": "z8SWdaH4VU5R"
      },
      "execution_count": null,
      "outputs": []
    },
    {
      "cell_type": "code",
      "source": [
        "article_1 = df['train'][1]['dialogue']"
      ],
      "metadata": {
        "id": "aLN8vqnpVkW0"
      },
      "execution_count": null,
      "outputs": []
    },
    {
      "cell_type": "code",
      "source": [
        "from transformers import AutoTokenizer, AutoModelForSeq2SeqLM\n",
        "from transformers import TrainingArguments, Trainer"
      ],
      "metadata": {
        "id": "GO2idSMHV_Al"
      },
      "execution_count": null,
      "outputs": []
    },
    {
      "cell_type": "code",
      "source": [
        "tokenizer = AutoTokenizer.from_pretrained(\"facebook/bart-base\")"
      ],
      "metadata": {
        "id": "K6JTnIF-WHGs"
      },
      "execution_count": null,
      "outputs": []
    },
    {
      "cell_type": "code",
      "source": [
        "model = AutoModelForSeq2SeqLM.from_pretrained(\"facebook/bart-base\")"
      ],
      "metadata": {
        "id": "p7ceYzrBWKDS"
      },
      "execution_count": null,
      "outputs": []
    },
    {
      "cell_type": "code",
      "source": [
        "def preprocess_function(batch):\n",
        "    source = batch['dialogue']\n",
        "    target = batch[\"summary\"]\n",
        "    source_ids = tokenizer(source, truncation=True, padding=\"max_length\", max_length=128)\n",
        "    target_ids = tokenizer(target, truncation=True, padding=\"max_length\", max_length=128)\n",
        "    labels = target_ids[\"input_ids\"]\n",
        "    labels = [[(label if label != tokenizer.pad_token_id else -100) for label in labels_example] for labels_example in labels]\n",
        "\n",
        "    return {\n",
        "        \"input_ids\": source_ids[\"input_ids\"],\n",
        "        \"attention_mask\": source_ids[\"attention_mask\"],\n",
        "        \"labels\": labels\n",
        "    }\n",
        "\n",
        "df_source = df.map(preprocess_function, batched=True)"
      ],
      "metadata": {
        "id": "sHzTa0s4WMwm"
      },
      "execution_count": null,
      "outputs": []
    },
    {
      "cell_type": "code",
      "source": [
        "training_args = TrainingArguments(\n",
        "    output_dir=\"/content\",\n",
        "    per_device_train_batch_size=8,\n",
        "    num_train_epochs=2,\n",
        "    report_to='none',\n",
        "    remove_unused_columns=False\n",
        ")"
      ],
      "metadata": {
        "id": "_2xe7PmbWVGM"
      },
      "execution_count": null,
      "outputs": []
    },
    {
      "cell_type": "code",
      "source": [
        "trainer = Trainer(\n",
        "    model=model,\n",
        "    args=training_args,\n",
        "    train_dataset=df_source[\"train\"],\n",
        "    eval_dataset=df_source[\"test\"]\n",
        ")"
      ],
      "metadata": {
        "id": "BZ6A6pf-WdSY"
      },
      "execution_count": null,
      "outputs": []
    },
    {
      "cell_type": "code",
      "source": [
        "trainer.train()"
      ],
      "metadata": {
        "id": "Wwg5y5hRWh21"
      },
      "execution_count": null,
      "outputs": []
    },
    {
      "cell_type": "code",
      "source": [
        "eval_results = trainer.evaluate()\n",
        "print(eval_results)"
      ],
      "metadata": {
        "id": "LE-pcPmQXQ_r"
      },
      "execution_count": null,
      "outputs": []
    },
    {
      "cell_type": "code",
      "source": [
        "model.save_pretrained(\"/content/SaiTejaKarreTS\")\n",
        "tokenizer.save_pretrained(\"/content/SaiTejaKarreTS\")"
      ],
      "metadata": {
        "id": "Eyh-ZL6ZcMig"
      },
      "execution_count": null,
      "outputs": []
    },
    {
      "cell_type": "code",
      "source": [
        "from transformers import AutoTokenizer, AutoModelForSeq2SeqLM\n",
        "\n",
        "tokenizer = AutoTokenizer.from_pretrained(\"/content/SaiTejaKarreTS\")\n",
        "model = AutoModelForSeq2SeqLM.from_pretrained(\"/content/SaiTejaKarreTS\")\n",
        "\n",
        "def summarize(blog_post):\n",
        "    inputs = tokenizer(blog_post, max_length=1024, truncation=True, return_tensors=\"pt\")\n",
        "\n",
        "    summary_ids = model.generate(inputs[\"input_ids\"], max_length=150, min_length=40, length_penalty=2.0, num_beams=4, early_stopping=True)\n",
        "\n",
        "    summary = tokenizer.decode(summary_ids[0], skip_special_tokens=True)\n",
        "    return summary\n",
        "\n",
        "Full_Text = \"\"\"\n",
        "Lord Venkateshwara, also known as Srinivasa, Balaji, or Venkatachalapati, is a revered form of Lord Vishnu, primarily worshipped at the sacred Tirumala Venkateswara Temple in Tirupati, Andhra Pradesh, India. Considered the “Lord of the Seven Hills,” He is believed to have manifested in the Kali Yuga to protect humanity and grant blessings to His devotees. The deity’s idol is renowned for its unique beauty, adorned with precious jewels and ornaments, and is one of the most visited and venerated forms of Vishnu worldwide.\n",
        "\n",
        "According to legend, Lord Venkateshwara descended to earth to save mankind from the trials and tribulations of the present age. The most popular story narrates that Vishnu took the form of Srinivasa and came to Tirumala to marry Goddess Padmavathi, the incarnation of Lakshmi. To arrange this divine wedding, He borrowed wealth from Kubera, the god of riches. Even today, devotees believe they are repaying this cosmic debt through offerings at the temple, which explains the tradition of immense donations.\n",
        "\n",
        "The Tirumala temple is one of the richest and most visited places of worship globally, attracting millions of pilgrims every year. The daily rituals, chants, and the famous “Suprabhatam” prayers bring an atmosphere of deep devotion. The prasadam “Tirupati Laddu” has gained global recognition and holds a Geographical Indication (GI) tag.\n",
        "\n",
        "Spiritually, Lord Venkateshwara represents hope, compassion, and divine justice. His devotees believe that surrendering at His feet removes sins, fulfills wishes, and grants peace. The sacred mantra “Om Namo Venkatesaya” is chanted with unwavering faith by millions, symbolizing surrender to the Lord’s will.\n",
        "\n",
        "Beyond being a religious figure, Lord Venkateshwara has influenced culture, music, literature, and traditions for centuries. The annual Brahmotsavam festival draws devotees from across the world, creating a vibrant celebration of faith and unity. His temple stands as a testament to both architectural grandeur and the enduring power of devotion.\n",
        "\n",
        "In essence, Lord Venkateshwara is not just a deity for His followers; He is a living presence, a protector, and a beacon of hope in challenging times, whose blessings continue to guide devotees toward spiritual fulfillment and worldly prosperity\n",
        "\"\"\"\n",
        "\n",
        "summary = summarize(Full_Text)\n",
        "print(\"Summary:\", summary)\n"
      ],
      "metadata": {
        "id": "NkViVCmPcXEU"
      },
      "execution_count": null,
      "outputs": []
    },
    {
      "cell_type": "code",
      "source": [],
      "metadata": {
        "id": "fLSXjztvcgLg"
      },
      "execution_count": null,
      "outputs": []
    }
  ]
}